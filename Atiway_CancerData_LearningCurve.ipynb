{
 "cells": [
  {
   "cell_type": "code",
   "execution_count": 31,
   "metadata": {},
   "outputs": [],
   "source": [
    "# importing necessary libraries\n",
    "import numpy as np\n",
    "import pandas as pd\n",
    "import seaborn as sns\n",
    "import matplotlib.pyplot as plt\n",
    "%matplotlib inline\n",
    "import seaborn as sns"
   ]
  },
  {
   "cell_type": "code",
   "execution_count": 32,
   "metadata": {},
   "outputs": [
    {
     "data": {
      "text/html": [
       "<div>\n",
       "<style scoped>\n",
       "    .dataframe tbody tr th:only-of-type {\n",
       "        vertical-align: middle;\n",
       "    }\n",
       "\n",
       "    .dataframe tbody tr th {\n",
       "        vertical-align: top;\n",
       "    }\n",
       "\n",
       "    .dataframe thead th {\n",
       "        text-align: right;\n",
       "    }\n",
       "</style>\n",
       "<table border=\"1\" class=\"dataframe\">\n",
       "  <thead>\n",
       "    <tr style=\"text-align: right;\">\n",
       "      <th></th>\n",
       "      <th>Unnamed: 0</th>\n",
       "      <th>V1</th>\n",
       "      <th>V2</th>\n",
       "      <th>V3</th>\n",
       "      <th>V4</th>\n",
       "      <th>V5</th>\n",
       "      <th>V6</th>\n",
       "      <th>V7</th>\n",
       "      <th>V8</th>\n",
       "      <th>V9</th>\n",
       "      <th>Class</th>\n",
       "    </tr>\n",
       "  </thead>\n",
       "  <tbody>\n",
       "    <tr>\n",
       "      <th>0</th>\n",
       "      <td>0</td>\n",
       "      <td>137.573925</td>\n",
       "      <td>151.719162</td>\n",
       "      <td>0.596020</td>\n",
       "      <td>23.629505</td>\n",
       "      <td>7.030695</td>\n",
       "      <td>0.580842</td>\n",
       "      <td>20.306659</td>\n",
       "      <td>40.032476</td>\n",
       "      <td>59.758293</td>\n",
       "      <td>0.0</td>\n",
       "    </tr>\n",
       "    <tr>\n",
       "      <th>1</th>\n",
       "      <td>1</td>\n",
       "      <td>116.496435</td>\n",
       "      <td>144.131710</td>\n",
       "      <td>0.559442</td>\n",
       "      <td>21.142454</td>\n",
       "      <td>7.302688</td>\n",
       "      <td>1.792108</td>\n",
       "      <td>16.222173</td>\n",
       "      <td>30.652238</td>\n",
       "      <td>45.082303</td>\n",
       "      <td>0.0</td>\n",
       "    </tr>\n",
       "    <tr>\n",
       "      <th>2</th>\n",
       "      <td>2</td>\n",
       "      <td>226.076027</td>\n",
       "      <td>194.559764</td>\n",
       "      <td>0.594095</td>\n",
       "      <td>29.937782</td>\n",
       "      <td>9.526411</td>\n",
       "      <td>10.851462</td>\n",
       "      <td>28.283713</td>\n",
       "      <td>45.715964</td>\n",
       "      <td>63.148214</td>\n",
       "      <td>1.0</td>\n",
       "    </tr>\n",
       "    <tr>\n",
       "      <th>3</th>\n",
       "      <td>3</td>\n",
       "      <td>100.359149</td>\n",
       "      <td>134.248998</td>\n",
       "      <td>0.555051</td>\n",
       "      <td>20.580689</td>\n",
       "      <td>5.855500</td>\n",
       "      <td>9.848190</td>\n",
       "      <td>20.564519</td>\n",
       "      <td>31.280848</td>\n",
       "      <td>41.997178</td>\n",
       "      <td>1.0</td>\n",
       "    </tr>\n",
       "    <tr>\n",
       "      <th>4</th>\n",
       "      <td>4</td>\n",
       "      <td>131.986704</td>\n",
       "      <td>150.623324</td>\n",
       "      <td>0.579484</td>\n",
       "      <td>23.986106</td>\n",
       "      <td>7.273814</td>\n",
       "      <td>30.388115</td>\n",
       "      <td>22.448860</td>\n",
       "      <td>14.509605</td>\n",
       "      <td>6.570351</td>\n",
       "      <td>1.0</td>\n",
       "    </tr>\n",
       "  </tbody>\n",
       "</table>\n",
       "</div>"
      ],
      "text/plain": [
       "   Unnamed: 0          V1          V2        V3         V4        V5  \\\n",
       "0           0  137.573925  151.719162  0.596020  23.629505  7.030695   \n",
       "1           1  116.496435  144.131710  0.559442  21.142454  7.302688   \n",
       "2           2  226.076027  194.559764  0.594095  29.937782  9.526411   \n",
       "3           3  100.359149  134.248998  0.555051  20.580689  5.855500   \n",
       "4           4  131.986704  150.623324  0.579484  23.986106  7.273814   \n",
       "\n",
       "          V6         V7         V8         V9  Class  \n",
       "0   0.580842  20.306659  40.032476  59.758293    0.0  \n",
       "1   1.792108  16.222173  30.652238  45.082303    0.0  \n",
       "2  10.851462  28.283713  45.715964  63.148214    1.0  \n",
       "3   9.848190  20.564519  31.280848  41.997178    1.0  \n",
       "4  30.388115  22.448860  14.509605   6.570351    1.0  "
      ]
     },
     "execution_count": 32,
     "metadata": {},
     "output_type": "execute_result"
    }
   ],
   "source": [
    "#Load Dataset\n",
    "data=pd.read_csv('./CancerPScreen_Clean.csv')\n",
    "data.head()"
   ]
  },
  {
   "cell_type": "code",
   "execution_count": 33,
   "metadata": {},
   "outputs": [
    {
     "data": {
      "text/html": [
       "<div>\n",
       "<style scoped>\n",
       "    .dataframe tbody tr th:only-of-type {\n",
       "        vertical-align: middle;\n",
       "    }\n",
       "\n",
       "    .dataframe tbody tr th {\n",
       "        vertical-align: top;\n",
       "    }\n",
       "\n",
       "    .dataframe thead th {\n",
       "        text-align: right;\n",
       "    }\n",
       "</style>\n",
       "<table border=\"1\" class=\"dataframe\">\n",
       "  <thead>\n",
       "    <tr style=\"text-align: right;\">\n",
       "      <th></th>\n",
       "      <th>V1</th>\n",
       "      <th>V2</th>\n",
       "      <th>V3</th>\n",
       "      <th>V4</th>\n",
       "      <th>V5</th>\n",
       "      <th>V6</th>\n",
       "      <th>V7</th>\n",
       "      <th>V8</th>\n",
       "      <th>V9</th>\n",
       "      <th>Class</th>\n",
       "    </tr>\n",
       "  </thead>\n",
       "  <tbody>\n",
       "    <tr>\n",
       "      <th>0</th>\n",
       "      <td>137.573925</td>\n",
       "      <td>151.719162</td>\n",
       "      <td>0.596020</td>\n",
       "      <td>23.629505</td>\n",
       "      <td>7.030695</td>\n",
       "      <td>0.580842</td>\n",
       "      <td>20.306659</td>\n",
       "      <td>40.032476</td>\n",
       "      <td>59.758293</td>\n",
       "      <td>0.0</td>\n",
       "    </tr>\n",
       "    <tr>\n",
       "      <th>1</th>\n",
       "      <td>116.496435</td>\n",
       "      <td>144.131710</td>\n",
       "      <td>0.559442</td>\n",
       "      <td>21.142454</td>\n",
       "      <td>7.302688</td>\n",
       "      <td>1.792108</td>\n",
       "      <td>16.222173</td>\n",
       "      <td>30.652238</td>\n",
       "      <td>45.082303</td>\n",
       "      <td>0.0</td>\n",
       "    </tr>\n",
       "    <tr>\n",
       "      <th>2</th>\n",
       "      <td>226.076027</td>\n",
       "      <td>194.559764</td>\n",
       "      <td>0.594095</td>\n",
       "      <td>29.937782</td>\n",
       "      <td>9.526411</td>\n",
       "      <td>10.851462</td>\n",
       "      <td>28.283713</td>\n",
       "      <td>45.715964</td>\n",
       "      <td>63.148214</td>\n",
       "      <td>1.0</td>\n",
       "    </tr>\n",
       "    <tr>\n",
       "      <th>3</th>\n",
       "      <td>100.359149</td>\n",
       "      <td>134.248998</td>\n",
       "      <td>0.555051</td>\n",
       "      <td>20.580689</td>\n",
       "      <td>5.855500</td>\n",
       "      <td>9.848190</td>\n",
       "      <td>20.564519</td>\n",
       "      <td>31.280848</td>\n",
       "      <td>41.997178</td>\n",
       "      <td>1.0</td>\n",
       "    </tr>\n",
       "    <tr>\n",
       "      <th>4</th>\n",
       "      <td>131.986704</td>\n",
       "      <td>150.623324</td>\n",
       "      <td>0.579484</td>\n",
       "      <td>23.986106</td>\n",
       "      <td>7.273814</td>\n",
       "      <td>30.388115</td>\n",
       "      <td>22.448860</td>\n",
       "      <td>14.509605</td>\n",
       "      <td>6.570351</td>\n",
       "      <td>1.0</td>\n",
       "    </tr>\n",
       "  </tbody>\n",
       "</table>\n",
       "</div>"
      ],
      "text/plain": [
       "           V1          V2        V3         V4        V5         V6  \\\n",
       "0  137.573925  151.719162  0.596020  23.629505  7.030695   0.580842   \n",
       "1  116.496435  144.131710  0.559442  21.142454  7.302688   1.792108   \n",
       "2  226.076027  194.559764  0.594095  29.937782  9.526411  10.851462   \n",
       "3  100.359149  134.248998  0.555051  20.580689  5.855500   9.848190   \n",
       "4  131.986704  150.623324  0.579484  23.986106  7.273814  30.388115   \n",
       "\n",
       "          V7         V8         V9  Class  \n",
       "0  20.306659  40.032476  59.758293    0.0  \n",
       "1  16.222173  30.652238  45.082303    0.0  \n",
       "2  28.283713  45.715964  63.148214    1.0  \n",
       "3  20.564519  31.280848  41.997178    1.0  \n",
       "4  22.448860  14.509605   6.570351    1.0  "
      ]
     },
     "execution_count": 33,
     "metadata": {},
     "output_type": "execute_result"
    }
   ],
   "source": [
    "#Remove the unnamed column\n",
    "clean_data=data[['V1', 'V2', 'V3','V4', 'V5', 'V6','V7', 'V8', 'V9','Class']].copy()\n",
    "clean_data.head()"
   ]
  },
  {
   "cell_type": "code",
   "execution_count": 34,
   "metadata": {},
   "outputs": [
    {
     "name": "stdout",
     "output_type": "stream",
     "text": [
      "<class 'pandas.core.frame.DataFrame'>\n",
      "RangeIndex: 1560 entries, 0 to 1559\n",
      "Data columns (total 10 columns):\n",
      "V1       1560 non-null float64\n",
      "V2       1560 non-null float64\n",
      "V3       1560 non-null float64\n",
      "V4       1560 non-null float64\n",
      "V5       1560 non-null float64\n",
      "V6       1560 non-null float64\n",
      "V7       1560 non-null float64\n",
      "V8       1560 non-null float64\n",
      "V9       1560 non-null float64\n",
      "Class    1560 non-null float64\n",
      "dtypes: float64(10)\n",
      "memory usage: 122.0 KB\n"
     ]
    }
   ],
   "source": [
    "#check number of rows and datatype\n",
    "clean_data.info()"
   ]
  },
  {
   "cell_type": "code",
   "execution_count": 35,
   "metadata": {},
   "outputs": [
    {
     "name": "stdout",
     "output_type": "stream",
     "text": [
      "Class Split\n",
      "1.0    1020\n",
      "0.0     540\n",
      "Name: Class, dtype: int64\n"
     ]
    },
    {
     "data": {
      "text/plain": [
       "Text(0, 0.5, 'Count')"
      ]
     },
     "execution_count": 35,
     "metadata": {},
     "output_type": "execute_result"
    },
    {
     "data": {
      "image/png": "[encoded data removed]",
      "text/plain": [
       "<Figure size 720x288 with 1 Axes>"
      ]
     },
     "metadata": {
      "needs_background": "light"
     },
     "output_type": "display_data"
    }
   ],
   "source": [
    "#Class Balance\n",
    "print('Class Split')\n",
    "print(clean_data['Class'].value_counts())\n",
    "clean_data['Class'].value_counts().plot.bar(figsize=(10,4),title='Classes Split for Dataset')\n",
    "plt.xlabel('Class')\n",
    "plt.ylabel('Count')"
   ]
  },
  {
   "cell_type": "code",
   "execution_count": 36,
   "metadata": {},
   "outputs": [],
   "source": [
    "#Create x and y variables\n",
    "x = clean_data.drop('Class', axis=1).values\n",
    "Y = clean_data['Class'].values\n",
    "\n",
    "#Create Training Set\n",
    "from sklearn.model_selection import train_test_split\n",
    "x_train,x_test,y_train,y_test = train_test_split(x,Y,test_size = 0.2,stratify=Y,random_state = 100)\n",
    "\n",
    "#Fix the imbalanced Classes\n",
    "from imblearn.over_sampling import SMOTE\n",
    "smt=SMOTE(random_state=100)\n",
    "x_train_smt,y_train_smt = smt.fit_resample(x_train,y_train)\n",
    "\n",
    "#Scale the Data\n",
    "from sklearn.preprocessing import StandardScaler\n",
    "sc = StandardScaler()\n",
    "x_train2 = sc.fit_transform(x_train_smt)\n",
    "x_test2 = sc.fit_transform(x_test)\n",
    "\n"
   ]
  },
  {
   "cell_type": "code",
   "execution_count": 37,
   "metadata": {},
   "outputs": [
    {
     "name": "stdout",
     "output_type": "stream",
     "text": [
      "Current - Class Split\n",
      "No-Cancer - 816\n",
      "Cancer - 816\n"
     ]
    }
   ],
   "source": [
    "#Current Class Balance - Test Data\n",
    "print('Current - Class Split')\n",
    "num_zeros = (y_train_smt == 0).sum()\n",
    "num_ones = (y_train_smt == 1).sum()\n",
    "print('No-Cancer -',  num_zeros)\n",
    "print('Cancer -',  num_ones)"
   ]
  },
  {
   "cell_type": "code",
   "execution_count": 38,
   "metadata": {},
   "outputs": [],
   "source": [
    "#Load Models\n",
    "from sklearn.linear_model import LogisticRegression\n",
    "from sklearn.tree import DecisionTreeClassifier\n",
    "from sklearn.neighbors import KNeighborsClassifier\n",
    "from sklearn.ensemble import RandomForestClassifier\n",
    "\n",
    "# Construct some pipelines \n",
    "from sklearn.pipeline import Pipeline\n",
    "from sklearn.preprocessing import StandardScaler\n",
    "\n",
    "#Create Pipeline\n",
    "\n",
    "pipeline =[]\n",
    "\n",
    "pipe_logreg = Pipeline([('scl', StandardScaler()),\n",
    "                    ('clf', LogisticRegression(solver='lbfgs',class_weight='balanced',\n",
    "                                               random_state=100))])\n",
    "pipeline.insert(0,pipe_logreg)\n",
    "\n",
    "pipe_knn = Pipeline([('scl', StandardScaler()),\n",
    "                    ('clf', KNeighborsClassifier(n_jobs=-1))])\n",
    "pipeline.insert(1,pipe_knn)\n",
    "\n",
    "\n",
    "pipe_dt = Pipeline([('scl', StandardScaler()),\n",
    "                    ('clf', DecisionTreeClassifier(random_state=100))])\n",
    "pipeline.insert(2,pipe_dt)\n",
    "\n",
    "pipe_rdf = Pipeline([('scl', StandardScaler()),\n",
    "                    ('clf', RandomForestClassifier(n_estimators=100,random_state=100))])\n",
    "pipeline.insert(3,pipe_rdf)\n",
    "\n",
    "\n",
    "\n",
    "# Set grid search params \n",
    "\n",
    "modelpara =[]\n",
    "\n",
    "param_gridlogreg = {'clf__C': [0.01, 0.1, 1, 10, 100], \n",
    "                    'clf__penalty': ['l2']}\n",
    "modelpara.insert(0,param_gridlogreg)\n",
    "\n",
    "\n",
    "param_range_k = range(1, 10) \n",
    "param_gridknn = {'clf__n_neighbors':param_range_k}\n",
    "modelpara.insert(1,param_gridknn)"
   ]
  },
  {
   "cell_type": "code",
   "execution_count": 39,
   "metadata": {},
   "outputs": [],
   "source": [
    "#Define Plot for learning curve\n",
    "\n",
    "from sklearn.model_selection import learning_curve\n",
    "from sklearn.utils import shuffle\n",
    "X_shuffle, y_shuffle = shuffle(x_train2, y_train_smt)\n",
    "\n",
    "\n",
    "def plot_learning_curves(model):\n",
    "    train_sizes, train_scores, test_scores = learning_curve(estimator=model,\n",
    "                                                            X=X_shuffle, \n",
    "                                                            y=y_shuffle,\n",
    "                                                            train_sizes= np.linspace(0.1, 1.0, 10),\n",
    "                                                            cv=10,\n",
    "                                                            scoring='recall_weighted',\n",
    "                                                            n_jobs=1,random_state=100)\n",
    "    train_mean = np.mean(train_scores, axis=1)\n",
    "    train_std = np.std(train_scores, axis=1)\n",
    "    test_mean = np.mean(test_scores, axis=1)\n",
    "    test_std = np.std(test_scores, axis=1)\n",
    "    \n",
    "    plt.plot(train_sizes, train_mean,color='blue', marker='o', \n",
    "             markersize=5, label='training recall')\n",
    "    plt.fill_between(train_sizes, train_mean + train_std, train_mean - train_std,\n",
    "                     alpha=0.15, color='blue')\n",
    "\n",
    "    plt.plot(train_sizes, test_mean, color='green', linestyle='--', marker='s', markersize=5,\n",
    "             label='validation recall')\n",
    "    plt.fill_between(train_sizes, test_mean + test_std, test_mean - test_std,\n",
    "                     alpha=0.15, color='green')\n",
    "    plt.grid(True)\n",
    "    plt.xlabel('Number of Training Samples')\n",
    "    plt.ylabel('Recall')\n",
    "    plt.legend(loc='best')\n",
    "    plt.ylim([0.5, 1.01])\n",
    "    plt.show()"
   ]
  },
  {
   "cell_type": "code",
   "execution_count": 40,
   "metadata": {},
   "outputs": [
    {
     "name": "stdout",
     "output_type": "stream",
     "text": [
      "\n",
      " KNN Learning Curve\n"
     ]
    },
    {
     "data": {
      "image/png": "[encoded data removed]",
      "text/plain": [
       "<Figure size 432x288 with 1 Axes>"
      ]
     },
     "metadata": {
      "needs_background": "light"
     },
     "output_type": "display_data"
    },
    {
     "name": "stdout",
     "output_type": "stream",
     "text": [
      "\n",
      " Decision Tree Learning Curve\n"
     ]
    },
    {
     "data": {
      "image/png": "[encoded data removed]",
      "text/plain": [
       "<Figure size 432x288 with 1 Axes>"
      ]
     },
     "metadata": {
      "needs_background": "light"
     },
     "output_type": "display_data"
    },
    {
     "name": "stdout",
     "output_type": "stream",
     "text": [
      "\n",
      " RDF Learning Curve\n"
     ]
    },
    {
     "data": {
      "image/png": "[encoded data removed]",
      "text/plain": [
       "<Figure size 432x288 with 1 Axes>"
      ]
     },
     "metadata": {
      "needs_background": "light"
     },
     "output_type": "display_data"
    },
    {
     "name": "stdout",
     "output_type": "stream",
     "text": [
      "\n",
      " Logistic Regression Learning Curve\n"
     ]
    },
    {
     "data": {
      "image/png": "[encoded data removed]",
      "text/plain": [
       "<Figure size 432x288 with 1 Axes>"
      ]
     },
     "metadata": {
      "needs_background": "light"
     },
     "output_type": "display_data"
    }
   ],
   "source": [
    "#Plot Learning Curve\n",
    "\n",
    "print('\\n KNN Learning Curve')\n",
    "plot_learning_curves(pipe_knn)\n",
    "print('\\n Decision Tree Learning Curve')\n",
    "plot_learning_curves(pipe_dt)\n",
    "print('\\n RDF Learning Curve')\n",
    "plot_learning_curves(pipe_rdf)\n",
    "print('\\n Logistic Regression Learning Curve')\n",
    "plot_learning_curves(pipe_logreg)\n"
   ]
  },
  {
   "cell_type": "code",
   "execution_count": 41,
   "metadata": {},
   "outputs": [
    {
     "name": "stdout",
     "output_type": "stream",
     "text": [
      "Model Evaluation - Recall Weighted\n",
      "Logistic Regression 0.96 +/- 0.02\n",
      "KNN 0.96 +/- 0.02\n",
      "Decision Tree 0.96 +/- 0.01\n",
      "RDF 0.98 +/- 0.01\n",
      "\n",
      "\n"
     ]
    },
    {
     "data": {
      "image/png": "[encoded data removed]",
      "text/plain": [
       "<Figure size 1224x360 with 1 Axes>"
      ]
     },
     "metadata": {
      "needs_background": "light"
     },
     "output_type": "display_data"
    }
   ],
   "source": [
    "#Model Analysis\n",
    "from sklearn.model_selection import RepeatedKFold\n",
    "from sklearn.model_selection import cross_val_score\n",
    "\n",
    "models=[]\n",
    "models.append(('Logistic Regression',pipe_logreg))\n",
    "models.append(('KNN',pipe_knn))\n",
    "models.append(('Decision Tree',pipe_dt))\n",
    "models.append(('RDF',pipe_rdf))\n",
    "\n",
    "\n",
    "  \n",
    "\n",
    "#Model Evaluation\n",
    "results =[]\n",
    "names=[]\n",
    "scoring ='recall_weighted'\n",
    "print('Model Evaluation - Recall Weighted')\n",
    "for name, model in models:\n",
    "    rkf=RepeatedKFold(n_splits=10, n_repeats=5, random_state=100)\n",
    "    cv_results = cross_val_score(model,x_train2,y_train_smt,cv=rkf,scoring=scoring)\n",
    "    results.append(cv_results)\n",
    "    names.append(name)\n",
    "    print('{} {:.2f} +/- {:.2f}'.format(name,cv_results.mean(),cv_results.std()))\n",
    "print('\\n')\n",
    "\n",
    "fig = plt.figure(figsize=(17,5))\n",
    "fig.suptitle('Boxplot View')\n",
    "ax = fig.add_subplot(111)\n",
    "sns.boxplot(data=results)\n",
    "ax.set_xticklabels(names)\n",
    "plt.ylabel('Recall')\n",
    "plt.xlabel('Model')\n",
    "plt.show()"
   ]
  },
  {
   "cell_type": "code",
   "execution_count": 42,
   "metadata": {},
   "outputs": [
    {
     "name": "stdout",
     "output_type": "stream",
     "text": [
      "Confusion Matrix\n",
      "[[104   4]\n",
      " [ 30 174]]\n",
      "\n",
      "Estimator: Logistic Regression\n",
      "              precision    recall  f1-score   support\n",
      "\n",
      "   No-Cancer       0.78      0.96      0.86       108\n",
      "      Cancer       0.98      0.85      0.91       204\n",
      "\n",
      "    accuracy                           0.89       312\n",
      "   macro avg       0.88      0.91      0.89       312\n",
      "weighted avg       0.91      0.89      0.89       312\n",
      "\n",
      "Confusion Matrix\n",
      "[[105   3]\n",
      " [ 20 184]]\n",
      "\n",
      "Estimator: KNN\n",
      "              precision    recall  f1-score   support\n",
      "\n",
      "   No-Cancer       0.84      0.97      0.90       108\n",
      "      Cancer       0.98      0.90      0.94       204\n",
      "\n",
      "    accuracy                           0.93       312\n",
      "   macro avg       0.91      0.94      0.92       312\n",
      "weighted avg       0.93      0.93      0.93       312\n",
      "\n",
      "Confusion Matrix\n",
      "[[107   1]\n",
      " [ 19 185]]\n",
      "\n",
      "Estimator: RDF\n",
      "              precision    recall  f1-score   support\n",
      "\n",
      "   No-Cancer       0.85      0.99      0.91       108\n",
      "      Cancer       0.99      0.91      0.95       204\n",
      "\n",
      "    accuracy                           0.94       312\n",
      "   macro avg       0.92      0.95      0.93       312\n",
      "weighted avg       0.94      0.94      0.94       312\n",
      "\n"
     ]
    },
    {
     "name": "stderr",
     "output_type": "stream",
     "text": [
      "C:\\Users\\tiwar\\Anaconda3\\lib\\site-packages\\sklearn\\ensemble\\forest.py:245: FutureWarning: The default value of n_estimators will change from 10 in version 0.20 to 100 in 0.22.\n",
      "  \"10 in version 0.20 to 100 in 0.22.\", FutureWarning)\n"
     ]
    }
   ],
   "source": [
    "# Base Logistical Models\n",
    "from sklearn.metrics import classification_report, confusion_matrix  \n",
    "from sklearn.linear_model import LogisticRegression\n",
    "from sklearn.tree import DecisionTreeClassifier\n",
    "from sklearn.neighbors import KNeighborsClassifier\n",
    "from sklearn.ensemble import RandomForestClassifier\n",
    "\n",
    "target_names=['No-Cancer','Cancer']\n",
    "\n",
    "for name,method in [('Logistic Regression',LogisticRegression(solver='liblinear',random_state=100)),\n",
    "                    ('KNN',KNeighborsClassifier()),\n",
    "                    ('RDF',RandomForestClassifier())\n",
    "                    ]: \n",
    "    method.fit(x_train2,y_train_smt)\n",
    "    predict = method.predict(x_test2)\n",
    "    print('Confusion Matrix') \n",
    "    print(confusion_matrix(y_test,predict))  \n",
    "    print('\\nEstimator: {}'.format(name)) \n",
    "    print(classification_report(y_test,predict,target_names=target_names))"
   ]
  },
  {
   "cell_type": "code",
   "execution_count": 29,
   "metadata": {},
   "outputs": [],
   "source": [
    "\n",
    "\n",
    "#Define Gridsearch Function\n",
    "\n",
    "from sklearn.model_selection import GridSearchCV\n",
    "from sklearn.metrics import classification_report, confusion_matrix  \n",
    "\n",
    "def Gridsearch_cv(model, params):\n",
    "    \n",
    "    #Cross-validation Function\n",
    "    cv2=RepeatedKFold(n_splits=10, n_repeats=5, random_state=100)\n",
    "        \n",
    "    #GridSearch CV\n",
    "    gs_clf = GridSearchCV(model, params, n_jobs=1, cv=cv2,scoring='recall_weighted')\n",
    "    gs_clf = gs_clf.fit(x_train2, y_train_smt)\n",
    "    model = gs_clf.best_estimator_\n",
    "    \n",
    "    #Nested CV\n",
    "    x_2 = sc.fit_transform(x)\n",
    "    scoreACC = cross_val_score(gs_clf, x_2, Y, \n",
    "                             scoring='accuracy', cv=5,\n",
    "                             n_jobs= -1)\n",
    "    \n",
    "    scorePM = cross_val_score(gs_clf, x_2, Y, \n",
    "                             scoring='precision_weighted', cv=5,\n",
    "                             n_jobs= -1)\n",
    "    \n",
    "    scoreRM = cross_val_score(gs_clf, x_2, Y, \n",
    "                             scoring='recall_weighted', cv=5,\n",
    "                             n_jobs= -1)\n",
    "    \n",
    "    # Use best model and test data for final evaluation\n",
    "    y_pred = model.predict(x_test2)\n",
    "    \n",
    "    #Identify Best Parameters to Optimize the Model\n",
    "    bestpara=str(gs_clf.best_params_)\n",
    "    \n",
    "    #Output Heading\n",
    "    print('\\nOptimized Model')\n",
    "    print('\\nModel Name:',str(pipeline.named_steps['clf']))\n",
    "        \n",
    "    #Output Validation Statistics\n",
    "    target_names=['No-Cancer','Cancer']\n",
    "    print('\\nBest Parameters:',bestpara)\n",
    "    print('\\n', confusion_matrix(y_test,y_pred))  \n",
    "    print('\\n',classification_report(y_test,y_pred,target_names=target_names))\n",
    "    print('\\nNestedCV Accuracy(weighted) :{:0.2f} +/-{:0.2f} '.format(np.mean(scoreACC),np.std(scoreACC)))\n",
    "    print('NestedCV Precision(weighted) :{:0.2f} +/-{:0.2f} '.format(np.mean(scorePM),np.std(scorePM)))\n",
    "    print('NestedCV Recall(weighted) :{:0.2f} +/-{:0.2f} '.format(np.mean(scoreRM),np.std(scoreRM)))\n",
    "    print('\\n')\n",
    "    \n",
    "    #Transform the variables into binary (0,1) - ROC Curve\n",
    "    from sklearn import preprocessing\n",
    "    Forecast1=pd.DataFrame(y_pred)\n",
    "    Outcome1=pd.DataFrame(y_test)\n",
    "    lb1 = preprocessing.LabelBinarizer()\n",
    "    OutcomeB1 =lb1.fit_transform(Outcome1)\n",
    "    ForecastB1 = lb1.fit_transform(Forecast1)\n",
    "    \n",
    "    #Setup the ROC Curve\n",
    "    from sklearn.metrics import roc_curve, auc\n",
    "    from sklearn import metrics\n",
    "    fpr, tpr, threshold = metrics.roc_curve(OutcomeB1, ForecastB1)\n",
    "    roc_auc = metrics.auc(fpr, tpr)\n",
    "    print('ROC Curve')\n",
    "    #Plot the ROC Curve\n",
    "    plt.title('Receiver Operating Characteristic')\n",
    "    plt.plot(fpr, tpr, 'b', label = 'AUC = %0.2f' % roc_auc)\n",
    "    plt.legend(loc = 'lower right')\n",
    "    plt.plot([0, 1], [0, 1],'r--')\n",
    "    plt.xlim([0, 1])\n",
    "    plt.ylim([0, 1])\n",
    "    plt.ylabel('True Positive Rate')\n",
    "    plt.xlabel('False Positive Rate')\n",
    "    plt.show()   \n"
   ]
  },
  {
   "cell_type": "code",
   "execution_count": 30,
   "metadata": {},
   "outputs": [
    {
     "name": "stdout",
     "output_type": "stream",
     "text": [
      "\n",
      "Optimized Model\n",
      "\n",
      "Model Name: LogisticRegression(C=1.0, class_weight='balanced', dual=False,\n",
      "                   fit_intercept=True, intercept_scaling=1, l1_ratio=None,\n",
      "                   max_iter=100, multi_class='warn', n_jobs=None, penalty='l2',\n",
      "                   random_state=100, solver='lbfgs', tol=0.0001, verbose=0,\n",
      "                   warm_start=False)\n",
      "\n",
      "Best Parameters: {'clf__C': 1, 'clf__penalty': 'l2'}\n",
      "\n",
      " [[104   4]\n",
      " [ 30 174]]\n",
      "\n",
      "               precision    recall  f1-score   support\n",
      "\n",
      "   No-Cancer       0.78      0.96      0.86       108\n",
      "      Cancer       0.98      0.85      0.91       204\n",
      "\n",
      "    accuracy                           0.89       312\n",
      "   macro avg       0.88      0.91      0.89       312\n",
      "weighted avg       0.91      0.89      0.89       312\n",
      "\n",
      "\n",
      "NestedCV Accuracy(weighted) :0.95 +/-0.02 \n",
      "NestedCV Precision(weighted) :0.95 +/-0.01 \n",
      "NestedCV Recall(weighted) :0.95 +/-0.02 \n",
      "\n",
      "\n",
      "ROC Curve\n"
     ]
    },
    {
     "data": {
      "image/png": "[encoded data removed]",
      "text/plain": [
       "<Figure size 432x288 with 1 Axes>"
      ]
     },
     "metadata": {
      "needs_background": "light"
     },
     "output_type": "display_data"
    },
    {
     "name": "stdout",
     "output_type": "stream",
     "text": [
      "\n",
      "Optimized Model\n",
      "\n",
      "Model Name: KNeighborsClassifier(algorithm='auto', leaf_size=30, metric='minkowski',\n",
      "                     metric_params=None, n_jobs=-1, n_neighbors=5, p=2,\n",
      "                     weights='uniform')\n",
      "\n",
      "Best Parameters: {'clf__n_neighbors': 1}\n",
      "\n",
      " [[108   0]\n",
      " [  7 197]]\n",
      "\n",
      "               precision    recall  f1-score   support\n",
      "\n",
      "   No-Cancer       0.94      1.00      0.97       108\n",
      "      Cancer       1.00      0.97      0.98       204\n",
      "\n",
      "    accuracy                           0.98       312\n",
      "   macro avg       0.97      0.98      0.98       312\n",
      "weighted avg       0.98      0.98      0.98       312\n",
      "\n",
      "\n",
      "NestedCV Accuracy(weighted) :0.94 +/-0.04 \n",
      "NestedCV Precision(weighted) :0.95 +/-0.03 \n",
      "NestedCV Recall(weighted) :0.94 +/-0.04 \n",
      "\n",
      "\n",
      "ROC Curve\n"
     ]
    },
    {
     "data": {
      "image/png": "[encoded data removed]",
      "text/plain": [
       "<Figure size 432x288 with 1 Axes>"
      ]
     },
     "metadata": {
      "needs_background": "light"
     },
     "output_type": "display_data"
    }
   ],
   "source": [
    "#Run Models\n",
    "\n",
    "for pipeline, modelpara in zip(pipeline,modelpara):\n",
    "    Gridsearch_cv(pipeline,modelpara)"
   ]
  },
  {
   "cell_type": "code",
   "execution_count": null,
   "metadata": {},
   "outputs": [],
   "source": []
  }
 ],
 "metadata": {
  "kernelspec": {
   "display_name": "Python 3",
   "language": "python",
   "name": "python3"
  },
  "language_info": {
   "codemirror_mode": {
    "name": "ipython",
    "version": 3
   },
   "file_extension": ".py",
   "mimetype": "text/x-python",
   "name": "python",
   "nbconvert_exporter": "python",
   "pygments_lexer": "ipython3",
   "version": "3.7.3"
  }
 },
 "nbformat": 4,
 "nbformat_minor": 2
}
